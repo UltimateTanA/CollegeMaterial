{
 "cells": [
  {
   "cell_type": "code",
   "execution_count": 42,
   "id": "6225c5e5-9888-45e8-b1ba-54892d1c252b",
   "metadata": {},
   "outputs": [
    {
     "name": "stdout",
     "output_type": "stream",
     "text": [
      "Time  State      Action     Reward     Next State\n",
      "1     high       wait       0.5        high      \n",
      "2     high       search     1          high      \n",
      "3     high       wait       0.5        high      \n",
      "4     high       wait       0.5        high      \n",
      "5     high       search     1          high      \n",
      "6     high       search     1          low       \n",
      "7     low        search     -3         high      \n",
      "8     high       wait       0.5        high      \n",
      "9     high       wait       0.5        high      \n",
      "10    high       wait       0.5        high      \n"
     ]
    }
   ],
   "source": [
    "import random\n",
    "\n",
    "# Define states and actions\n",
    "states = [\"high\", \"low\"]\n",
    "actions_high = [\"search\", \"wait\"]\n",
    "actions_low = [\"search\", \"wait\", \"recharge\"]\n",
    "\n",
    "# Transition probabilities and rewards\n",
    "alpha = 0.9  # Probability of staying high after search in high\n",
    "beta = 0.1   # Probability of staying low after search in low\n",
    "r_search = 1  # Reward for searching\n",
    "r_wait = 0.5  # Reward for waiting\n",
    "\n",
    "# Transition dynamics and rewards\n",
    "transition_table = {\n",
    "    \"high\": {\n",
    "        \"search\": [(\"high\", alpha, r_search), (\"low\", 1 - alpha, r_search)],\n",
    "        \"wait\": [(\"high\", 1.0, r_wait)],\n",
    "    },\n",
    "    \"low\": {\n",
    "        \"search\": [(\"low\", beta, r_search), (\"high\", 1 - beta, -3)],  # Depletion transitions back to high\n",
    "        \"wait\": [(\"low\", 1.0, r_wait)],\n",
    "        \"recharge\": [(\"high\", 1.0, 0)],  # Recharge transitions to high with no reward\n",
    "    },\n",
    "}\n",
    "\n",
    "# Function to simulate one step\n",
    "def simulate_step(current_state):\n",
    "    # Choose action based on current state\n",
    "    if current_state == \"high\":\n",
    "        action = random.choice(actions_high)\n",
    "    elif current_state == \"low\":\n",
    "        action = random.choice(actions_low)\n",
    "    \n",
    "    # Transition probabilities for the chosen action\n",
    "    transitions = transition_table[current_state][action]\n",
    "    \n",
    "    # Determine next state based on probabilities\n",
    "    next_state = random.choices(\n",
    "        [t[0] for t in transitions], weights=[t[1] for t in transitions], k=1\n",
    "    )[0]\n",
    "    \n",
    "    # Get reward for the transition\n",
    "    reward = next(t[2] for t in transitions if t[0] == next_state)\n",
    "    \n",
    "    return current_state, action, reward, next_state\n",
    "\n",
    "# Simulation for 10 time steps\n",
    "current_state = \"high\"  # Start with high battery\n",
    "print(f\"{'Time':<5} {'State':<10} {'Action':<10} {'Reward':<10} {'Next State':<10}\")\n",
    "for t in range(1, 11):\n",
    "    state, action, reward, next_state = simulate_step(current_state)\n",
    "    print(f\"{t:<5} {state:<10} {action:<10} {reward:<10} {next_state:<10}\")\n",
    "    current_state = next_state  # Update the state\n"
   ]
  },
  {
   "cell_type": "code",
   "execution_count": null,
   "id": "6253aa8f-8812-44db-81ed-bf2352bc79a2",
   "metadata": {},
   "outputs": [],
   "source": []
  },
  {
   "cell_type": "code",
   "execution_count": null,
   "id": "8187f321-d993-4456-adbf-dd22fd3d58fe",
   "metadata": {},
   "outputs": [],
   "source": []
  },
  {
   "cell_type": "code",
   "execution_count": null,
   "id": "dedd72fa-1d7b-46ca-bfe3-1bd7a3ea3deb",
   "metadata": {},
   "outputs": [],
   "source": []
  }
 ],
 "metadata": {
  "kernelspec": {
   "display_name": "Python 3 (ipykernel)",
   "language": "python",
   "name": "python3"
  },
  "language_info": {
   "codemirror_mode": {
    "name": "ipython",
    "version": 3
   },
   "file_extension": ".py",
   "mimetype": "text/x-python",
   "name": "python",
   "nbconvert_exporter": "python",
   "pygments_lexer": "ipython3",
   "version": "3.12.6"
  }
 },
 "nbformat": 4,
 "nbformat_minor": 5
}
